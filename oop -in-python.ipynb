{
 "cells": [
  {
   "cell_type": "code",
   "execution_count": null,
   "metadata": {},
   "outputs": [],
   "source": [
    "# we want to make a class whose name is point and it has 2 axis(x and y axis)"
   ]
  },
  {
   "cell_type": "code",
   "execution_count": 105,
   "metadata": {},
   "outputs": [],
   "source": [
    "class Point:\n",
    "    #constructors are defined using a special method,which must be __init__ \n",
    "    def __init__(self,x = 0, y = 0):# constructor overload by passing it values by our self because without x and y axis there is no point(logically)\n",
    "        self.x = x\n",
    "        self.y = y\n",
    "    # __init__ also known as dunder functions because of double underscores\n",
    "    # we call it as init not underscore underscore init\n",
    "    # here self is doing the work of this(this is used in c++)\n",
    "    # we have to use this self in every method\n",
    "    # if we self. then we get the fields of intances\n",
    "    # if we want to make any method as method of class so we have to give it self as the parameter\n",
    "    # as we donot have x as our field but as in python you just write a name and variable \n",
    "    #declared.\n",
    "    def __str__(self):\n",
    "        return '[' + str(self.x) + ',' + str(self.y) + ']'\n",
    "    def get_human_readable(self):\n",
    "        return '[' + str(self.x) + ',' + str(self.y) + ']'\n",
    "    # it is must to write self with field and the method"
   ]
  },
  {
   "cell_type": "code",
   "execution_count": null,
   "metadata": {},
   "outputs": [],
   "source": []
  },
  {
   "cell_type": "markdown",
   "metadata": {},
   "source": [
    "# Whenever you make an object in python you must have to give self argument"
   ]
  },
  {
   "cell_type": "code",
   "execution_count": 106,
   "metadata": {},
   "outputs": [
    {
     "name": "stdout",
     "output_type": "stream",
     "text": [
      "p1 = : 0\n",
      "p2 = : 2\n"
     ]
    }
   ],
   "source": [
    "# we can make instance using new(cpp) but here we donot need this \n",
    "p1 = Point() # p1 is a reference variable\n",
    "print(\"p1 = :\",p1.x)\n",
    "#note when we call the function we donot need self(that's how it works)\n",
    "p2 = Point(2,4)\n",
    "\n",
    "print(\"p2 = :\",p2.x)\n"
   ]
  },
  {
   "cell_type": "code",
   "execution_count": 107,
   "metadata": {},
   "outputs": [
    {
     "name": "stdout",
     "output_type": "stream",
     "text": [
      "[2,4]\n"
     ]
    }
   ],
   "source": [
    "print(p2)"
   ]
  },
  {
   "cell_type": "code",
   "execution_count": 108,
   "metadata": {},
   "outputs": [],
   "source": [
    "# p2 holds address so it is a pointer but in real python does not have pointers."
   ]
  },
  {
   "cell_type": "code",
   "execution_count": 109,
   "metadata": {},
   "outputs": [],
   "source": [
    "# we want the string reperestation of our object"
   ]
  },
  {
   "cell_type": "code",
   "execution_count": 110,
   "metadata": {},
   "outputs": [],
   "source": [
    "#Now we want to convert our point class to work for the strings as well so what we do is add an additional\n",
    "#method line 14,15"
   ]
  },
  {
   "cell_type": "code",
   "execution_count": 111,
   "metadata": {},
   "outputs": [
    {
     "name": "stdout",
     "output_type": "stream",
     "text": [
      "[2,4]\n"
     ]
    }
   ],
   "source": [
    "print(p2.get_human_readable()) \n",
    "#but this is not a good way because we have to call it so we shall add another dunder function for strings and it shall also be called \n",
    "#automatically and that dunder function is __str__"
   ]
  },
  {
   "cell_type": "code",
   "execution_count": 112,
   "metadata": {},
   "outputs": [
    {
     "name": "stdout",
     "output_type": "stream",
     "text": [
      "[2,4]\n"
     ]
    }
   ],
   "source": [
    "# Uncomment line 14 and 15 of our point class then run this.... and see the difference\n",
    "print(p2)"
   ]
  },
  {
   "cell_type": "code",
   "execution_count": 113,
   "metadata": {},
   "outputs": [],
   "source": [
    "# Remove self from your __str__ dunder function and see the error "
   ]
  },
  {
   "cell_type": "code",
   "execution_count": 114,
   "metadata": {},
   "outputs": [],
   "source": [
    "# Error shall be:\n",
    "# __str__() takes 0 positional arguments but 1 was given\n",
    "# it means python interpretor pass self by itself but there was no anyone(variable/argument) to recieve it"
   ]
  },
  {
   "cell_type": "markdown",
   "metadata": {},
   "source": [
    "# Side Note"
   ]
  },
  {
   "cell_type": "code",
   "execution_count": 115,
   "metadata": {},
   "outputs": [
    {
     "ename": "SyntaxError",
     "evalue": "unexpected EOF while parsing (<ipython-input-115-6eab9eeea240>, line 3)",
     "output_type": "error",
     "traceback": [
      "\u001b[0;36m  File \u001b[0;32m\"<ipython-input-115-6eab9eeea240>\"\u001b[0;36m, line \u001b[0;32m3\u001b[0m\n\u001b[0;31m    # it will give error so solution is just write pass in the function body\u001b[0m\n\u001b[0m                                                                            ^\u001b[0m\n\u001b[0;31mSyntaxError\u001b[0m\u001b[0;31m:\u001b[0m unexpected EOF while parsing\n"
     ]
    }
   ],
   "source": [
    "# What if you want to just make a function and donot want to put anything in it's body(let's say you want to add it later)\n",
    "def fun():\n",
    "    # it will give error so solution is just write pass in the function body"
   ]
  },
  {
   "cell_type": "code",
   "execution_count": 116,
   "metadata": {},
   "outputs": [],
   "source": [
    "def fun():\n",
    "    pass"
   ]
  },
  {
   "cell_type": "markdown",
   "metadata": {},
   "source": [
    "# Composition"
   ]
  },
  {
   "cell_type": "markdown",
   "metadata": {},
   "source": [
    "composition is simple as always."
   ]
  },
  {
   "cell_type": "code",
   "execution_count": 117,
   "metadata": {},
   "outputs": [],
   "source": [
    "class Shape:\n",
    "    def __init__(self,points):\n",
    "        self.points = points\n",
    "        \n",
    "    def __str__(self):\n",
    "        ret = \"\"\n",
    "        \n",
    "        for i in self.points:\n",
    "            ret += str(i) + \" - \"\n",
    "            \n",
    "        return ret\n",
    "        "
   ]
  },
  {
   "cell_type": "code",
   "execution_count": 118,
   "metadata": {},
   "outputs": [],
   "source": [
    "# There is no overloading in python."
   ]
  },
  {
   "cell_type": "code",
   "execution_count": 119,
   "metadata": {},
   "outputs": [],
   "source": [
    "p1 = Point(5,5)\n",
    "p2 = Point(10,5)\n",
    "p3 = Point(5,10)\n",
    "\n",
    "p = [p1,p2,p3]\n",
    "\n",
    "sh = Shape(p)"
   ]
  },
  {
   "cell_type": "code",
   "execution_count": 120,
   "metadata": {},
   "outputs": [
    {
     "name": "stdout",
     "output_type": "stream",
     "text": [
      "[5,5] - [10,5] - [5,10] - \n"
     ]
    }
   ],
   "source": [
    "# Make sure you uncomment __str__ function of Point class\n",
    "print(sh)"
   ]
  },
  {
   "cell_type": "markdown",
   "metadata": {},
   "source": [
    "Note: we can add methods to class even after it has been defined"
   ]
  },
  {
   "cell_type": "code",
   "execution_count": 121,
   "metadata": {},
   "outputs": [],
   "source": [
    "def print_points(self):\n",
    "    for i in self.points:\n",
    "        print(i)\n",
    "Shape.print_points = print_points  # Adding at runtime"
   ]
  },
  {
   "cell_type": "code",
   "execution_count": null,
   "metadata": {},
   "outputs": [],
   "source": [
    "# MOstly data scienctist does this they make a prototype and then add functions and all other things"
   ]
  },
  {
   "cell_type": "code",
   "execution_count": 122,
   "metadata": {},
   "outputs": [
    {
     "name": "stdout",
     "output_type": "stream",
     "text": [
      "[5,5]\n",
      "[10,5]\n",
      "[5,10]\n"
     ]
    }
   ],
   "source": [
    "sh.print_points()"
   ]
  },
  {
   "cell_type": "markdown",
   "metadata": {},
   "source": [
    "# Inheritance"
   ]
  },
  {
   "cell_type": "markdown",
   "metadata": {},
   "source": [
    "Inheritance syntax is also slightly different but quite easy."
   ]
  },
  {
   "cell_type": "code",
   "execution_count": 123,
   "metadata": {},
   "outputs": [],
   "source": [
    "# Multiple Inheritance not used mostly.(Donot do it)"
   ]
  },
  {
   "cell_type": "code",
   "execution_count": 124,
   "metadata": {},
   "outputs": [],
   "source": [
    "class Triangle(Shape): # Triangle inherits from shape\n",
    "    pass # pass means I'm not going to have anything in this block"
   ]
  },
  {
   "cell_type": "code",
   "execution_count": 125,
   "metadata": {},
   "outputs": [],
   "source": [
    "t = Triangle(p)"
   ]
  },
  {
   "cell_type": "code",
   "execution_count": 126,
   "metadata": {},
   "outputs": [
    {
     "name": "stdout",
     "output_type": "stream",
     "text": [
      "[5,5]\n",
      "[10,5]\n",
      "[5,10]\n"
     ]
    }
   ],
   "source": [
    "t.print_points() # Automatically inherited"
   ]
  },
  {
   "cell_type": "code",
   "execution_count": 129,
   "metadata": {},
   "outputs": [],
   "source": [
    "def get_area(self):\n",
    "    vertices = self.points\n",
    "    \n",
    "    n = len(vertices) # of corners\n",
    "    \n",
    "    a = 0.0\n",
    "    \n",
    "    for i in range(n):\n",
    "        j = (i + 1) % n\n",
    "        \n",
    "        a += abs(vertices[i].x * vertices[j].y - vertices[j].x * vertices[i].y)\n",
    "    return a / 2.0\n",
    "Triangle.get_area = get_area"
   ]
  },
  {
   "cell_type": "code",
   "execution_count": 130,
   "metadata": {},
   "outputs": [
    {
     "data": {
      "text/plain": [
       "62.5"
      ]
     },
     "execution_count": 130,
     "metadata": {},
     "output_type": "execute_result"
    }
   ],
   "source": [
    "t.get_area()"
   ]
  },
  {
   "cell_type": "markdown",
   "metadata": {},
   "source": [
    "# Access Parent Class 'Overriden Methods'"
   ]
  },
  {
   "cell_type": "markdown",
   "metadata": {},
   "source": [
    "You Inherited a class from parent class but you want to use parent class function/constructor instead of your new class so you can use \"Super()\" in that case."
   ]
  },
  {
   "cell_type": "code",
   "execution_count": 137,
   "metadata": {},
   "outputs": [],
   "source": [
    "class Rectangle:\n",
    "    def __init__(self, length, width):\n",
    "        self.length = length\n",
    "        self.width = width\n",
    "        \n",
    "    def area(self):\n",
    "        return self.length * self.width\n",
    "    \n",
    "    def perimeter(self):\n",
    "        return 2 * self.length + 2 * self.width\n",
    "    \n",
    "    def __str__(self):\n",
    "        return \"L: \" + str(self.length) + \" W: \" + str(self.width)"
   ]
  },
  {
   "cell_type": "code",
   "execution_count": 138,
   "metadata": {},
   "outputs": [
    {
     "name": "stdout",
     "output_type": "stream",
     "text": [
      "L: 2 W: 4\n"
     ]
    }
   ],
   "source": [
    "rect = Rectangle(2, 4)\n",
    "print(rect)"
   ]
  },
  {
   "cell_type": "code",
   "execution_count": 139,
   "metadata": {},
   "outputs": [],
   "source": [
    "# Hre we declare that the square class inherits from Rectangle class\n",
    "class Square(Rectangle): # square is essentialy a rectangle so that's why we inherited from Rectangle\n",
    "    def __init__(self,length): # Here we are saying that use the __init__ function of parent class\n",
    "        super().__init__(length, length) # super() gives us parent class intant\n",
    "        \n",
    "        # square just takes one lenght cause all sides are of equal size so we have passed length 2 times\n",
    "    def __str__(self):\n",
    "        return \"Square: \" + super().__str__()"
   ]
  },
  {
   "cell_type": "code",
   "execution_count": 140,
   "metadata": {},
   "outputs": [
    {
     "data": {
      "text/plain": [
       "16"
      ]
     },
     "execution_count": 140,
     "metadata": {},
     "output_type": "execute_result"
    }
   ],
   "source": [
    "square = Square(4)\n",
    "square.area()"
   ]
  },
  {
   "cell_type": "code",
   "execution_count": 141,
   "metadata": {},
   "outputs": [
    {
     "name": "stdout",
     "output_type": "stream",
     "text": [
      "Square: L: 4 W: 4\n"
     ]
    }
   ],
   "source": [
    "print(square)"
   ]
  },
  {
   "cell_type": "markdown",
   "metadata": {},
   "source": [
    "# Polymorphism"
   ]
  },
  {
   "cell_type": "markdown",
   "metadata": {},
   "source": [
    "You get that for free in Python. Just call the method. if it's overridden, the child class method will\n",
    "be executed."
   ]
  },
  {
   "cell_type": "markdown",
   "metadata": {},
   "source": [
    "No data type in python so no Polymorphism.\n",
    "when you have instance of child child function shall be called and if you have parent instance then parent function shall be called and if in any case you want to use parent function like we did above\n",
    "then you can use Super()."
   ]
  },
  {
   "cell_type": "markdown",
   "metadata": {},
   "source": [
    "# Access Modifiers"
   ]
  },
  {
   "cell_type": "markdown",
   "metadata": {},
   "source": [
    "There are None.By convention, methods starting with `_` are considered private and should not be called from outside. if you still want to do it, the response is, \"good luck!\". "
   ]
  },
  {
   "cell_type": "markdown",
   "metadata": {},
   "source": [
    "See more details about classes on <a href=\"https://docs.python.org/3/tutorial/classes.html\" target=\"_blank\">https://docs.python.org/3/tutorial/classes.html</a>"
   ]
  },
  {
   "cell_type": "markdown",
   "metadata": {},
   "source": [
    "<----- OOP ENDS HERE ----->"
   ]
  },
  {
   "cell_type": "code",
   "execution_count": null,
   "metadata": {},
   "outputs": [],
   "source": []
  }
 ],
 "metadata": {
  "kernelspec": {
   "display_name": "Python 3 (ipykernel)",
   "language": "python",
   "name": "python3"
  },
  "language_info": {
   "codemirror_mode": {
    "name": "ipython",
    "version": 3
   },
   "file_extension": ".py",
   "mimetype": "text/x-python",
   "name": "python",
   "nbconvert_exporter": "python",
   "pygments_lexer": "ipython3",
   "version": "3.9.13"
  }
 },
 "nbformat": 4,
 "nbformat_minor": 4
}
